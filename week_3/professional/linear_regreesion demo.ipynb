{
 "cells": [
  {
   "cell_type": "markdown",
   "metadata": {},
   "source": [
    "### linear regression"
   ]
  },
  {
   "cell_type": "code",
   "execution_count": 1,
   "metadata": {},
   "outputs": [],
   "source": [
    "import numpy as np\n",
    "import random\n",
    "import time"
   ]
  },
  {
   "cell_type": "code",
   "execution_count": 2,
   "metadata": {},
   "outputs": [],
   "source": [
    "# inference 预测y"
   ]
  },
  {
   "cell_type": "code",
   "execution_count": 3,
   "metadata": {},
   "outputs": [],
   "source": [
    "def inference(w,b,x):\n",
    "    pred_y = w * x + b\n",
    "    return pred_y"
   ]
  },
  {
   "cell_type": "code",
   "execution_count": 4,
   "metadata": {},
   "outputs": [],
   "source": [
    "#cost function"
   ]
  },
  {
   "cell_type": "code",
   "execution_count": 18,
   "metadata": {},
   "outputs": [],
   "source": [
    "def eval_loss(w,b,x_list,gt_y_list):\n",
    "    avg_loss = 0\n",
    "    for i in range(len(x_list)):\n",
    "        avg_loss += 0.5 * (w * x_list[i] + b - gt_y_list[i]) ** 2\n",
    "    avg_loss /= len(gt_y_list)\n",
    "    return avg_loss"
   ]
  },
  {
   "cell_type": "code",
   "execution_count": 6,
   "metadata": {},
   "outputs": [],
   "source": [
    "#单一样本带来的梯度"
   ]
  },
  {
   "cell_type": "code",
   "execution_count": 7,
   "metadata": {},
   "outputs": [],
   "source": [
    "def gradient(pred_y, gt_y, x):\n",
    "    diff = pred_y - gt_y\n",
    "    dw = diff * x\n",
    "    db = diff\n",
    "    return dw,db"
   ]
  },
  {
   "cell_type": "code",
   "execution_count": 8,
   "metadata": {},
   "outputs": [],
   "source": [
    "#全部样本（batchsize）为w,b带来的更新"
   ]
  },
  {
   "cell_type": "code",
   "execution_count": 16,
   "metadata": {},
   "outputs": [],
   "source": [
    "def cal_step_gradient(batch_x_list, batch_gt_y_list, w, b ,lr):\n",
    "    avg_dw, avg_db = 0, 0\n",
    "    batch_size = len(batch_x_list)\n",
    "    for i in range(batch_size):\n",
    "        pred_y = inference(w, b, batch_x_list[i])\n",
    "        dw, db = gradient(pred_y, batch_gt_y_list[i], batch_x_list[i])\n",
    "        avg_dw += dw\n",
    "        avg_db += db\n",
    "    avg_dw /= batch_size\n",
    "    avg_db /= batch_size\n",
    "    w -= lr * avg_dw\n",
    "    b -= lr * avg_db\n",
    "    return w,b"
   ]
  },
  {
   "cell_type": "code",
   "execution_count": 10,
   "metadata": {},
   "outputs": [],
   "source": [
    "def gen_sample_data():\n",
    "    w = random.randint(0,10) + random.random()\n",
    "    b = random.randint(0, 5) + random.random()\n",
    "    \n",
    "    num_sample = 100\n",
    "    x_list = []\n",
    "    y_list = []\n",
    "    \n",
    "    for i in range(num_sample):\n",
    "        x = random.randint(0,100) * random.random()\n",
    "        y = w * x + b + random.random() * random.randint(-1, 100)\n",
    "        \n",
    "        x_list.append(x)\n",
    "        y_list.append(y)\n",
    "        \n",
    "    return x_list, y_list"
   ]
  },
  {
   "cell_type": "code",
   "execution_count": 11,
   "metadata": {},
   "outputs": [],
   "source": [
    "x_list, y_list = gen_sample_data()"
   ]
  },
  {
   "cell_type": "code",
   "execution_count": 12,
   "metadata": {},
   "outputs": [],
   "source": [
    "import matplotlib.pyplot as plt"
   ]
  },
  {
   "cell_type": "code",
   "execution_count": 13,
   "metadata": {},
   "outputs": [
    {
     "data": {
      "image/png": "[encoded data removed]",
      "text/plain": [
       "<Figure size 432x288 with 1 Axes>"
      ]
     },
     "metadata": {},
     "output_type": "display_data"
    }
   ],
   "source": [
    "plt.scatter(x_list, y_list)\n",
    "plt.show()"
   ]
  },
  {
   "cell_type": "code",
   "execution_count": 14,
   "metadata": {},
   "outputs": [],
   "source": [
    "def train(x_list, gt_y_list, batch_size, lr, max_iter):\n",
    "    w = 0\n",
    "    b = 0\n",
    "    num_samples = len(x_list)\n",
    "    for i in range(max_iter):\n",
    "        batch_idxs = np.random.choice(len(x_list), batch_size) #随机抽取batch_size个样本的索引值\n",
    "        batch_x = [x_list[j] for j in batch_idxs]\n",
    "        batch_y = [gt_y_list[j] for j in batch_idxs]\n",
    "        w, b = cal_step_gradient(batch_x, batch_y, w, b, lr)\n",
    "        print('w:{0},b:{1}'.format(w,b))\n",
    "        print('loss is {}'.format(eval_loss(w,b,x_list,gt_y_list)))\n",
    "        time.sleep(1)\n",
    "        \n",
    "    return w,b"
   ]
  },
  {
   "cell_type": "code",
   "execution_count": 20,
   "metadata": {},
   "outputs": [
    {
     "name": "stdout",
     "output_type": "stream",
     "text": [
      "w:13.007935458734359,b:0.2683266482845424\n",
      "loss is 6508.314069277691\n",
      "w:9.079471384692326,b:0.1912241370584783\n",
      "loss is 811.359886813217\n",
      "w:10.506280451711573,b:0.2254910538498113\n",
      "loss is 528.6099763714992\n",
      "w:9.683429571052994,b:0.21678313213173395\n",
      "loss is 363.98409349071795\n",
      "w:10.03919954023786,b:0.23130834743650455\n",
      "loss is 325.6450029264679\n",
      "w:9.955209369062135,b:0.23739124216287694\n",
      "loss is 319.5638439320296\n",
      "w:9.838471646789731,b:0.24088841267289185\n",
      "loss is 326.5497131392069\n",
      "w:9.842821921898846,b:0.25137795369619187\n",
      "loss is 325.84836198174116\n",
      "w:9.924799142627982,b:0.26217475134143814\n",
      "loss is 319.44176966251115\n",
      "w:10.006970318194252,b:0.2726830487830056\n",
      "loss is 321.9507664618781\n",
      "w:9.992448411535554,b:0.28316081990109276\n",
      "loss is 320.7686627238599\n",
      "w:9.812000026828311,b:0.2920738974833695\n",
      "loss is 330.0185452347705\n",
      "w:9.982059501623828,b:0.3020115259981252\n",
      "loss is 320.0039533279094\n",
      "w:9.834512016826539,b:0.30913611564678356\n",
      "loss is 326.3208164642242\n",
      "w:9.811998862579223,b:0.3169916192709128\n",
      "loss is 329.7189747815092\n",
      "w:9.886992596393005,b:0.32723540020459096\n",
      "loss is 320.5896413747164\n",
      "w:9.762261195592558,b:0.3323348638135967\n",
      "loss is 339.58551512107573\n",
      "w:9.876191317181055,b:0.3451983361715911\n",
      "loss is 321.24598605569497\n",
      "w:10.022318738544072,b:0.35678550915393853\n",
      "loss is 322.8903262870221\n",
      "w:9.945202748738263,b:0.3651476468450201\n",
      "loss is 318.3860866581256\n",
      "w:9.941820966250503,b:0.37389040201940116\n",
      "loss is 318.2961996172915\n",
      "w:9.967186298571002,b:0.38305315851511323\n",
      "loss is 318.7182136619108\n",
      "w:9.83984230087765,b:0.3895436227927158\n",
      "loss is 324.6884725748321\n",
      "w:10.072975751338422,b:0.4015382761822722\n",
      "loss is 329.84562615227946\n",
      "w:9.862549378349845,b:0.4052453420400547\n",
      "loss is 321.88465884378985\n",
      "w:10.063682512775534,b:0.41673485835457846\n",
      "loss is 328.1874139091569\n",
      "w:9.837558953152746,b:0.42121157360450523\n",
      "loss is 324.6354175652379\n",
      "w:9.870456743539288,b:0.42741951640314857\n",
      "loss is 320.89960633198547\n",
      "w:9.898914756870866,b:0.4375772121419881\n",
      "loss is 318.78078264915536\n",
      "w:10.002322502277737,b:0.4478162089855554\n",
      "loss is 320.3711694788315\n",
      "w:9.820514127060811,b:0.452062519147015\n",
      "loss is 326.7382682324111\n",
      "w:9.9174263742869,b:0.4627154246486169\n",
      "loss is 317.8161173442836\n",
      "w:9.908190384021939,b:0.471051376426177\n",
      "loss is 318.0442240604405\n",
      "w:9.781924335561751,b:0.477731404315426\n",
      "loss is 333.36981872610113\n",
      "w:9.754418442686324,b:0.48518147181395493\n",
      "loss is 339.4066232463407\n",
      "w:9.902339728844744,b:0.4981029521504478\n",
      "loss is 318.0400056290476\n",
      "w:10.047096705588983,b:0.5082623420331546\n",
      "loss is 325.13814396586884\n",
      "w:9.897412701574865,b:0.5139322005032733\n",
      "loss is 318.1314205017091\n",
      "w:9.939232632174127,b:0.522390815714099\n",
      "loss is 317.03966560992404\n",
      "w:9.922835957843375,b:0.5330432015123264\n",
      "loss is 317.0679225661681\n",
      "w:10.110446318252098,b:0.543537648617415\n",
      "loss is 336.83431571029837\n",
      "w:10.002673708760028,b:0.5509806942366136\n",
      "loss is 319.71224154590914\n",
      "w:10.006750724740792,b:0.5590478556312234\n",
      "loss is 320.0280664484927\n",
      "w:10.005694084593333,b:0.5685885733655006\n",
      "loss is 319.86798011382473\n",
      "w:9.823618039486682,b:0.5730878882774137\n",
      "loss is 324.87114239654454\n",
      "w:9.975631282046768,b:0.5863535808514952\n",
      "loss is 317.5635975926159\n",
      "w:9.850282595049164,b:0.5919583091777141\n",
      "loss is 321.20360616680017\n",
      "w:9.955987415245858,b:0.6030809791816429\n",
      "loss is 316.64514676099714\n",
      "w:9.88450827676812,b:0.6128982759640903\n",
      "loss is 317.94061507980916\n",
      "w:9.945775887500503,b:0.6237101514120938\n",
      "loss is 316.26488639508403\n",
      "w:9.9721635206236,b:0.6310829055061494\n",
      "loss is 317.05706715224755\n",
      "w:9.993986353156725,b:0.640427308216395\n",
      "loss is 318.39089461111485\n",
      "w:9.918788373574106,b:0.646822774242663\n",
      "loss is 316.14386247546383\n",
      "w:10.013720725575176,b:0.6584136866624489\n",
      "loss is 320.0872592786858\n",
      "w:9.999789727255688,b:0.6664462202302899\n",
      "loss is 318.69775038878316\n",
      "w:9.773054082740455,b:0.6694703381354252\n",
      "loss is 332.78281155993056\n",
      "w:10.182728842857953,b:0.6855984629052295\n",
      "loss is 356.61394037955125\n",
      "w:9.763747781391872,b:0.6855429132080578\n",
      "loss is 334.5996459801938\n",
      "w:9.891752642400082,b:0.7003468407499744\n",
      "loss is 316.66265649688256\n",
      "w:10.164510036213715,b:0.7154322546399192\n",
      "loss is 350.78705135248265\n",
      "w:9.68639251045202,b:0.7113615462854355\n",
      "loss is 355.4250370017296\n",
      "w:10.023875397232187,b:0.7302598887256764\n",
      "loss is 320.79818491398663\n",
      "w:9.932355582804604,b:0.7374380628438388\n",
      "loss is 315.2310936343347\n",
      "w:9.716406925706833,b:0.7397844626008646\n",
      "loss is 345.87597948925725\n",
      "w:9.93604086434068,b:0.7548227472742717\n",
      "loss is 315.0973485785794\n",
      "w:9.896635956430394,b:0.7629402933239651\n",
      "loss is 315.830013740839\n",
      "w:9.845508113083133,b:0.7709668518830768\n",
      "loss is 319.82912088569736\n",
      "w:9.991722369621595,b:0.7831549857519816\n",
      "loss is 317.25148972603495\n",
      "w:9.827997553810018,b:0.7890192784979678\n",
      "loss is 321.814790434753\n",
      "w:10.091647688411967,b:0.8017231837351321\n",
      "loss is 331.698081020245\n",
      "w:10.154327998327354,b:0.8112561075770555\n",
      "loss is 347.5265570858492\n",
      "w:9.726468185481673,b:0.8107154334208607\n",
      "loss is 342.09934495353986\n",
      "w:9.977920162434426,b:0.8264361822350348\n",
      "loss is 315.97462222511314\n",
      "w:9.9673810848016,b:0.8332731839004361\n",
      "loss is 315.3389316659434\n",
      "w:9.960234985726483,b:0.8405349504946793\n",
      "loss is 314.96925898651955\n",
      "w:10.036833807563866,b:0.8514654284468378\n",
      "loss is 321.80761523961877\n",
      "w:10.110534364078585,b:0.8579653142744912\n",
      "loss is 335.73674717347427\n",
      "w:9.937024455744867,b:0.8654060659177849\n",
      "loss is 314.2030497509041\n",
      "w:9.95827280912877,b:0.8748132842492365\n",
      "loss is 314.6363363851745\n",
      "w:9.889179277283981,b:0.8820441996579917\n",
      "loss is 315.088946119394\n",
      "w:9.760990764993078,b:0.8884312303273187\n",
      "loss is 332.59730656818414\n",
      "w:9.950860843986286,b:0.899375379409662\n",
      "loss is 314.2022789422636\n",
      "w:9.971429632045286,b:0.9094892495311424\n",
      "loss is 315.00254776322083\n",
      "w:9.804057699403813,b:0.9169890363361387\n",
      "loss is 323.9488204730071\n",
      "w:10.04748878887725,b:0.9297392181143537\n",
      "loss is 322.98534842409424\n",
      "w:9.869044624596569,b:0.9338435680235853\n",
      "loss is 315.9075354464038\n",
      "w:9.910202531056882,b:0.9426516985418247\n",
      "loss is 313.7381601126874\n",
      "w:9.91514597033826,b:0.9487899727975089\n",
      "loss is 313.58529149450663\n",
      "w:10.071293794276695,b:0.9608302081472266\n",
      "loss is 326.95801632310673\n",
      "w:9.88927934793489,b:0.9687894094929866\n",
      "loss is 314.27537113759274\n",
      "w:9.758302243227714,b:0.976893227217995\n",
      "loss is 332.0602143330488\n",
      "w:9.995640151963146,b:0.9891093522342848\n",
      "loss is 316.23879172208973\n",
      "w:9.979669477456286,b:0.9970576210791636\n",
      "loss is 314.91119071716344\n",
      "w:9.854669703593368,b:1.0043680724197144\n",
      "loss is 316.44378123795997\n",
      "w:9.876220630207474,b:1.013938880437272\n",
      "loss is 314.61141498883325\n",
      "w:9.919454816622363,b:1.0235634674893719\n",
      "loss is 312.8938735764867\n",
      "w:9.80282255266669,b:1.0310317797330038\n",
      "loss is 322.8283992823611\n",
      "w:9.99070449815738,b:1.046823707904516\n",
      "loss is 315.43533211773405\n",
      "w:9.982357853857092,b:1.05559982288611\n",
      "loss is 314.7105084526445\n",
      "w:9.659664312166194,b:1.0570939893551432\n",
      "loss is 359.18360845036364\n"
     ]
    },
    {
     "data": {
      "text/plain": [
       "(9.659664312166194, 1.0570939893551432)"
      ]
     },
     "execution_count": 20,
     "metadata": {},
     "output_type": "execute_result"
    }
   ],
   "source": [
    "train(x_list, y_list, 100, 0.001, 100)"
   ]
  },
  {
   "cell_type": "code",
   "execution_count": null,
   "metadata": {},
   "outputs": [],
   "source": []
  }
 ],
 "metadata": {
  "kernelspec": {
   "display_name": "Python 3",
   "language": "python",
   "name": "python3"
  },
  "language_info": {
   "codemirror_mode": {
    "name": "ipython",
    "version": 3
   },
   "file_extension": ".py",
   "mimetype": "text/x-python",
   "name": "python",
   "nbconvert_exporter": "python",
   "pygments_lexer": "ipython3",
   "version": "3.6.5"
  }
 },
 "nbformat": 4,
 "nbformat_minor": 2
}
